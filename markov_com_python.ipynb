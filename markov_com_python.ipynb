{
 "cells": [
  {
   "cell_type": "markdown",
   "metadata": {},
   "source": [
    "<h1>Cadeias de Markov com Python</h1>"
   ]
  },
  {
   "cell_type": "markdown",
   "metadata": {},
   "source": [
    "Cadeias de Markov são modelos que descrevem uma sequência de eventos dos quais a probabilidade da ocorrência de cada evento, depende apenas da ocorrência anterior e não de toda sequência. Vejamos um exemplo:"
   ]
  },
  {
   "cell_type": "markdown",
   "metadata": {},
   "source": [
    "<h3>Pepsi vs Coca</h3>"
   ]
  },
  {
   "cell_type": "markdown",
   "metadata": {},
   "source": [
    "Suponha que determinada pessoa, ou um grupo de pessoas, só bebe Coca ou só bebe Pepsi, além de seguir as seguintes regras:\n",
    "\n",
    "- Ele bebe apenas uma lata por semana.\n",
    "- Se ele bebeu Pepsi em uma determinada semana, na próxima ele vai beber Pepsi com probabilidade de 70% ou vai beber Coca com probabilidade de 30%. Essas probabilidades são fixas na sequência de eventos.\n",
    "- Se ele bebeu Coca em uma determinada semana, na próxima ele vai beber Pepsi com probabilidade de 10% ou vai beber Coca com probabilidade de 90%. Essas probabilidades são fixas na sequência de eventos.\n",
    "\n",
    "Os números nesse exemplo são fictícios. Além disso, as probabilidades no mundo real são alteradas por campanhas de marketing e outros eventos. O exemplo acima é simplesmente para entender como as cadeias de markov funcionam. Considere a seguinte pergunta:"
   ]
  },
  {
   "cell_type": "markdown",
   "metadata": {},
   "source": [
    "<i>Supondo que, nessa semana, 40%  de um grupo de pessoas tenham bebido Pepsi e 60% tenham bebido Coca. Qual a porcentagem provável de pessoas, desse mesmo grupo, beberão Coca na semana seguinte?</i>"
   ]
  },
  {
   "cell_type": "markdown",
   "metadata": {},
   "source": [
    "<img src=\"pepsiCocaProbs.png\" width=400px>"
   ]
  },
  {
   "cell_type": "markdown",
   "metadata": {},
   "source": [
    "Em forma matricial, podemos representar esse processo do seguinte modo:"
   ]
  },
  {
   "cell_type": "markdown",
   "metadata": {},
   "source": [
    "<img src=\"modelagem.png\" width=\"500px\">"
   ]
  },
  {
   "cell_type": "markdown",
   "metadata": {},
   "source": [
    "Denotando por Pi e Ci as porcentagens de pessoas que beberam Pepsi e Coca na semana i respectivamente, temos as seguintes propriedades:"
   ]
  },
  {
   "cell_type": "markdown",
   "metadata": {},
   "source": [
    "$$\\begin{array}[rcl]\\\\\n",
    "p\\left(P_{i+1} | P_i \\right) & = & 0.7\\\\\n",
    "p\\left(C_{i+1} | P_i \\right) & = & 0.3\\\\\n",
    "p\\left(P_{i+1} | C_i \\right) & = & 0.1\\\\\n",
    "p\\left(C_{i+1} | C_i \\right) & = & 0.9\\\\\n",
    "\\end{array}$$"
   ]
  },
  {
   "cell_type": "markdown",
   "metadata": {},
   "source": [
    "Usando o Teorema de Bayes temos:"
   ]
  },
  {
   "cell_type": "markdown",
   "metadata": {},
   "source": [
    "$$\\begin{array}[ccc]\\\\\n",
    "p(P_{i+1}) & = & p(P_{i+1}|P_{i})p(P_{i}) + p(P_{i+1}|C_{i})p(C_{i})\n",
    "\\end{array}$$"
   ]
  },
  {
   "cell_type": "markdown",
   "metadata": {},
   "source": [
    "$$\\begin{array}[ccc]\\\\\n",
    "p(C_{i+1}) & = & p(C_{i+1}|P_{i})p(P_{i}) + p(C_{i+1}|C_{i})p(C_{i}) \\\\\n",
    "\\end{array}$$"
   ]
  },
  {
   "cell_type": "markdown",
   "metadata": {},
   "source": [
    "Para o nosso exemplo, supondo que essa semana seja a semana 1 e a semana seguinte seja a semana 2:"
   ]
  },
  {
   "cell_type": "markdown",
   "metadata": {},
   "source": [
    "$$\\begin{array}[ccc]\\\\\n",
    "p(P_2) & = & p(P_2|P_1)p(P_1) + p(P_2|C_1)p(C_1) \\\\\n",
    "& = & 0.7 * 0.4 + 0.1 * 0.6 \\\\\n",
    "& = & 0.34\n",
    "\\end{array}$$"
   ]
  },
  {
   "cell_type": "markdown",
   "metadata": {},
   "source": [
    "$$\\begin{array}[ccc]\\\\\n",
    "p(C_2) & = & p(C_2|P_1)p(P_1) + p(C_2|C_1)p(C_1) \\\\\n",
    "& = & 0.3 * 0.4 + 0.9 * 0.6 \\\\\n",
    "& = & 0.66\n",
    "\\end{array}$$"
   ]
  },
  {
   "cell_type": "markdown",
   "metadata": {},
   "source": [
    "Logo, é provável que 66% das pessoas no grupo tomem Coca na semana seguinte."
   ]
  },
  {
   "cell_type": "markdown",
   "metadata": {},
   "source": [
    "Agora, observe a segunda igualdade de cada uma das expressões acima. Elas são obtidas da multiplicação da matriz de probabilidade pelo vetor de porcentagens do grupo na semana atual:"
   ]
  },
  {
   "cell_type": "markdown",
   "metadata": {},
   "source": [
    "<img src=\"produto.png\" width=\"500px\">"
   ]
  },
  {
   "cell_type": "markdown",
   "metadata": {},
   "source": [
    "Isso quer dizer que, para encontrar as porcentagens após duas semanas, basta multiplicar a matriz de probabilidades duas vezes!"
   ]
  },
  {
   "cell_type": "markdown",
   "metadata": {},
   "source": [
    "<img src=\"produto2.png\" width=\"500px\">"
   ]
  },
  {
   "cell_type": "markdown",
   "metadata": {},
   "source": [
    "Para conferir as contas acima, usaremos Python e a biblioteca numpy:"
   ]
  },
  {
   "cell_type": "code",
   "execution_count": 1,
   "metadata": {},
   "outputs": [
    {
     "name": "stdout",
     "output_type": "stream",
     "text": [
      "[[0.304]\n",
      " [0.696]]\n"
     ]
    }
   ],
   "source": [
    "# importando numpy\n",
    "import numpy as np\n",
    "\n",
    "# definindo a matriz\n",
    "# probabilidades semana 1\n",
    "M1 = np.array([\n",
    "    [0.7, 0.1],\n",
    "    [0.3, 0.9]\n",
    "])\n",
    "\n",
    "# calculando a matriz\n",
    "# probabilidades semana 2\n",
    "M2 = np.linalg.matrix_power(M1, 2)\n",
    "\n",
    "# definindo grupo\n",
    "# semana 1\n",
    "grupo_semana1 = np.array([\n",
    "    [0.4],\n",
    "    [0.6]\n",
    "])\n",
    "\n",
    "# calculando grupo\n",
    "# semana 3\n",
    "grupo_semana3 = np.matmul(M2, grupo_semana1)\n",
    "print(grupo_semana3)"
   ]
  },
  {
   "cell_type": "markdown",
   "metadata": {},
   "source": [
    "De forma geral, para descobrirmos como estará a preferência dos usuários na 11ª semana, podemos fazer o seguinte cálculo:"
   ]
  },
  {
   "cell_type": "markdown",
   "metadata": {},
   "source": [
    "$$\\left(\\begin{array}[cc]\\\\ 0.7 & 0.1 \\\\ 0.3 & 0.9 \\\\ \\end{array}\\right)^{10}\\left(\\begin{array}[c] \\\\\n",
    "0.4 \\\\\n",
    "0.6 \\\\\n",
    "\\end{array}\\right) = \\left(\n",
    "\\begin{array}[c]\\\\ ? \\\\ ? \\\\ \\end{array}\\right)$$"
   ]
  },
  {
   "cell_type": "markdown",
   "metadata": {},
   "source": [
    "O código nesse caso fica:"
   ]
  },
  {
   "cell_type": "code",
   "execution_count": 2,
   "metadata": {},
   "outputs": [
    {
     "name": "stdout",
     "output_type": "stream",
     "text": [
      "[[0.25090699]\n",
      " [0.74909301]]\n"
     ]
    }
   ],
   "source": [
    "# importando numpy\n",
    "import numpy as np\n",
    "\n",
    "# definindo a matriz\n",
    "# probabilidades semana 1\n",
    "M1 = np.array([\n",
    "    [0.7, 0.1],\n",
    "    [0.3, 0.9]\n",
    "])\n",
    "\n",
    "# calculando a matriz\n",
    "# probabilidades semana 10\n",
    "M10 = np.linalg.matrix_power(M1, 10)\n",
    "\n",
    "# definindo grupo\n",
    "# semana 1\n",
    "grupo_semana1 = np.array([\n",
    "    [0.4],\n",
    "    [0.6]\n",
    "])\n",
    "\n",
    "# calculando grupo\n",
    "# semana 10\n",
    "grupo_semana11 = np.matmul(M10, grupo_semana1)\n",
    "print(grupo_semana11)"
   ]
  },
  {
   "cell_type": "markdown",
   "metadata": {},
   "source": [
    "E temos nossa resposta:"
   ]
  },
  {
   "cell_type": "markdown",
   "metadata": {},
   "source": [
    "$$\\left(\\begin{array}[cc]\\\\ 0.7 & 0.1 \\\\ 0.3 & 0.9 \\\\ \\end{array}\\right)^{10}\\left(\\begin{array}[c] \\\\\n",
    "0.4 \\\\\n",
    "0.6 \\\\\n",
    "\\end{array}\\right) = \\left(\n",
    "\\begin{array}[c]\\\\ 0.25 \\\\ 0.75 \\\\ \\end{array}\\right)$$"
   ]
  },
  {
   "cell_type": "markdown",
   "metadata": {},
   "source": [
    "<h3>Snake and Ladders</h3>"
   ]
  },
  {
   "cell_type": "markdown",
   "metadata": {},
   "source": [
    "Snakes and Ladders (cobras e escadas no português) é um jogo em que o jogador tem que avançar por casas de um tabuleiro seguindo a ordem numérica das casas e as regras para movimento."
   ]
  },
  {
   "cell_type": "markdown",
   "metadata": {},
   "source": [
    "<img src=\"snakeLadder2.png\" width=\"500px\">"
   ]
  },
  {
   "cell_type": "markdown",
   "metadata": {},
   "source": [
    "Alan Golder é um ladrão de jóias e pretende roubar o baú de ouro que está na casa 9. Ele inicia sua empreitada na casa 1 e segue as seguintes regras:\n",
    "\n",
    "- Movimenta-se apenas uma vez por rodada de acordo com os números obtidos na rolagem de dado.\n",
    "- Na rolagem de dados, joga um único dado e, se o número for par, ele avança duas casas. Se for ímpar, ele avança apenas uma casa.\n",
    "- Golder sempre avança a quantidade determinada pelos dados de acordo com a regra anterior e sempre na ordem numérica crescente, exceto quando seu movimento acaba nas casa 3 ou 8.\n",
    "- Se o movimento acaba na casa 3, ele sobe a escada e, na mesma rodada, ocupa a casa 5.\n",
    "- Se o movimento acaba na casa 8, ele é mordido pela cobra e, na mesma rodada, cai para a casa 4.\n",
    "\n",
    "Alan Golder precisa saber qual a probabilidade de roubar o tesouro em até 21 rodadas, pois ele precisa ser rápido. Ele nos capturou e disse que só podemos sair vivos se fizermos essa conta para ele. É uma questão de vida ou morte, não temos escolha. Ainda bem que sabemos cadeia de Markov!"
   ]
  },
  {
   "cell_type": "markdown",
   "metadata": {},
   "source": [
    "Vejamos a representação em forma de tabela:"
   ]
  },
  {
   "cell_type": "markdown",
   "metadata": {},
   "source": [
    "<img src=\"tabelaAlan.png\" width=\"600px\">"
   ]
  },
  {
   "cell_type": "markdown",
   "metadata": {},
   "source": [
    "Utilizando Python temos:"
   ]
  },
  {
   "cell_type": "markdown",
   "metadata": {},
   "source": [
    "$$\\left(\\begin{array}[ccccccc]\\\\ 0 & 0 & 0 & 0 & 0 & 0 & 0 \\\\ 0.5 & 0 & 0 & 0 & 0 & 0 & 0 \\\\ 0 & 0.5 & 0 & 0 & 0 & 0 & 0 \\\\ 0.5 & 0.5 & 0.5 & 0 & 0 & 0 & 0 \\\\ 0 & 0 & 0.5 & 0.5 & 0.5 & 0.5 & 0 \\\\ 0 & 0 & 0 & 0.5 & 0.5 & 0 & 0 \\\\ 0 & 0 & 0 & 0 & 0 & 0.5 & 1 \\\\ \\end{array}\\right)^{20}\\left(\\begin{array}[c] \\\\\n",
    "1 \\\\\n",
    "0 \\\\\n",
    "0 \\\\\n",
    "0 \\\\\n",
    "0 \\\\\n",
    "0 \\\\\n",
    "0 \\\\\n",
    "\\end{array}\\right) = \\left(\n",
    "\\begin{array}[c]\\\\ ? \\\\ ? \\\\ ? \\\\ ? \\\\ ? \\\\ ? \\\\ ? \\\\\\end{array}\\right)$$"
   ]
  },
  {
   "cell_type": "code",
   "execution_count": 3,
   "metadata": {},
   "outputs": [
    {
     "name": "stdout",
     "output_type": "stream",
     "text": [
      "[[0.        ]\n",
      " [0.        ]\n",
      " [0.        ]\n",
      " [0.        ]\n",
      " [0.01536751]\n",
      " [0.00949764]\n",
      " [0.97513485]]\n"
     ]
    }
   ],
   "source": [
    "# importando numpy\n",
    "import numpy as np\n",
    "\n",
    "M1 = np.array([\n",
    "    [   0,   0,   0,   0,   0,   0,   0],\n",
    "    [ 0.5,   0,   0,   0,   0,   0,   0],\n",
    "    [   0, 0.5,   0,   0,   0,   0,   0],\n",
    "    [ 0.5, 0.5, 0.5,   0,   0,   0,   0],\n",
    "    [   0,   0, 0.5, 0.5, 0.5, 0.5,   0],\n",
    "    [   0,   0,   0, 0.5, 0.5,   0,   0],\n",
    "    [   0,   0,   0,   0,   0, 0.5,   1],\n",
    "])\n",
    "\n",
    "M_rodada20 = np.linalg.matrix_power(M1, 20)\n",
    "\n",
    "alan_rodada1 = np.array([[1],[0],[0],[0],[0],[0],[0]])\n",
    "\n",
    "alan_rodada20 = np.matmul(M_rodada20, alan_rodada1)\n",
    "print(alan_rodada20)"
   ]
  },
  {
   "cell_type": "markdown",
   "metadata": {},
   "source": [
    "Estamos salvos! Alan tem 1,5% de chances de estar na casa 6, na casa 8 ele tem 0.9% de chances e de conseguir roubar o tesouro antes da rodada 20, ele tem 97,51% de chances."
   ]
  },
  {
   "cell_type": "markdown",
   "metadata": {},
   "source": [
    "<h3>Sumário</h3>"
   ]
  },
  {
   "cell_type": "markdown",
   "metadata": {},
   "source": [
    "Vimos como cadeias de Markov podem ser utilizadas para modelar sequência de eventos com probabilidade fixas. Também passamos por dois famosos exemplos, Pepsi vs Coca e Snake and Ladders.\n",
    "\n",
    "Agora é sua vez! E se Alan Golder precisasse ser mais rápido! Faça os cálculo para no máximo 10 rodadas!"
   ]
  },
  {
   "cell_type": "markdown",
   "metadata": {},
   "source": [
    "<h3>O jogo do céu e do inferno</h3>"
   ]
  },
  {
   "cell_type": "markdown",
   "metadata": {},
   "source": [
    "<img src=\"ceuinferno.jpg\" width=\"400px\">"
   ]
  },
  {
   "cell_type": "markdown",
   "metadata": {},
   "source": [
    "<i>\"Este velho jogo indiano, conhecido popularmente como 'Snakes and Ladders', foi originalmente um instrumento para o ensino de ética. Cada casa apresenta, além de um número, uma lenda contendo virtudes e vícios . A mais longa escada encontra-se na casa 17 'Compaixão e amor' e leva até a casa 69 'O mundo do absoluto'.\"</i>"
   ]
  },
  {
   "cell_type": "markdown",
   "metadata": {},
   "source": [
    "Texto traduzido do site https://wellcomecollection.org/works/geydgvms\n",
    "\n",
    "Espero que tenham gostado!\n",
    "\n",
    "Até a próxima \\o"
   ]
  },
  {
   "cell_type": "code",
   "execution_count": null,
   "metadata": {},
   "outputs": [],
   "source": []
  }
 ],
 "metadata": {
  "kernelspec": {
   "display_name": "Python 3",
   "language": "python",
   "name": "python3"
  },
  "language_info": {
   "codemirror_mode": {
    "name": "ipython",
    "version": 3
   },
   "file_extension": ".py",
   "mimetype": "text/x-python",
   "name": "python",
   "nbconvert_exporter": "python",
   "pygments_lexer": "ipython3",
   "version": "3.7.3"
  }
 },
 "nbformat": 4,
 "nbformat_minor": 2
}
